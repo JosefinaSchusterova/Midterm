{
 "cells": [
  {
   "cell_type": "markdown",
   "id": "51ccdbae",
   "metadata": {},
   "source": [
    "Midterm JEM207- Josefína Schusterová"
   ]
  },
  {
   "cell_type": "code",
   "execution_count": 17,
   "id": "cc335a39",
   "metadata": {},
   "outputs": [],
   "source": [
    "import json\n",
    "import requests\n",
    "import pandas as pd\n",
    "import numpy as np\n",
    "from bs4 import BeautifulSoup\n",
    "import time\n",
    "import matplotlib.pyplot as plt\n",
    "import os\n",
    "import datetime\n",
    "from IPython.core.display import HTML, display"
   ]
  },
  {
   "cell_type": "markdown",
   "id": "7ec15420",
   "metadata": {},
   "source": [
    "Part 1 - API requests"
   ]
  },
  {
   "cell_type": "code",
   "execution_count": 18,
   "id": "5f545639",
   "metadata": {},
   "outputs": [
    {
     "data": {
      "text/plain": [
       "{'data': {'personal_code': 'fa026097',\n",
       "  'dataset_ids': ['ce92a7afca',\n",
       "   '3e8641892a',\n",
       "   'fc1e690fcf',\n",
       "   'f45ec2e9fc',\n",
       "   '8c34bdfc03',\n",
       "   'f894683be9',\n",
       "   '8a310226b3',\n",
       "   '2d1aef30ed',\n",
       "   '0a42bff0a1']},\n",
       " 'message': 'Hello, Schusterová Josefína! Good luck with the midterm. GET your data set from /data/file_id endpoint; use the codes you received in the data response as the file_id parameter! Print the personal code in your notebook.'}"
      ]
     },
     "execution_count": 18,
     "metadata": {},
     "output_type": "execute_result"
    }
   ],
   "source": [
    "url=\"https://ies-midterm.soulution.rocks/login\"\n",
    "payload={\"cuni\":\"68072775\"}\n",
    "result=requests.post(url, json=payload).json()\n",
    "result"
   ]
  },
  {
   "cell_type": "code",
   "execution_count": 19,
   "id": "0dbd84ea",
   "metadata": {},
   "outputs": [
    {
     "name": "stdout",
     "output_type": "stream",
     "text": [
      "Here is my personal code:fa026097\n"
     ]
    }
   ],
   "source": [
    "print('Here is my personal code:' +result['data']['personal_code'])"
   ]
  },
  {
   "cell_type": "code",
   "execution_count": 20,
   "id": "c74e3673",
   "metadata": {},
   "outputs": [
    {
     "data": {
      "text/plain": [
       "[<Response [503]>, <Response [503]>, <Response [503]>, <Response [200]>]"
      ]
     },
     "execution_count": 20,
     "metadata": {},
     "output_type": "execute_result"
    }
   ],
   "source": [
    "list_of_data=[]\n",
    "for x in result['data']['dataset_ids']:\n",
    "    get=requests.get(f\"https://ies-midterm.soulution.rocks/data/{x}\")\n",
    "    g=get.json()\n",
    "    #there is an error\n",
    "    while g[\"message\"]=='Error [503] - Sorry, I just slipped and fell. Thank God, I am made of silicon. You need to work this out.':     \n",
    "        get=requests.get(f\"https://ies-midterm.soulution.rocks/data/{x}\")\n",
    "        g=get.json()\n",
    "        list_of_data.append(get)\n",
    "    \n",
    "list_of_data"
   ]
  },
  {
   "cell_type": "code",
   "execution_count": 21,
   "id": "933565c0",
   "metadata": {},
   "outputs": [
    {
     "data": {
      "text/plain": [
       "'Columns are in order Date,Open,High,Low,Close,Adj.Close,Volume. Make sure your data are ordered.'"
      ]
     },
     "execution_count": 21,
     "metadata": {},
     "output_type": "execute_result"
    }
   ],
   "source": [
    "g[\"message\"]"
   ]
  },
  {
   "cell_type": "code",
   "execution_count": 22,
   "id": "a2b1f151",
   "metadata": {},
   "outputs": [
    {
     "data": {
      "text/plain": [
       "{'data': {'company': 'SGRO',\n",
       "  'data': [['2019-03-01',\n",
       "    '0.20999999344348907',\n",
       "    '0.20999999344348907',\n",
       "    '0.20999999344348907',\n",
       "    '0.20999999344348907',\n",
       "    '0.20999999344348907',\n",
       "    '0'],\n",
       "   ['2019-03-04',\n",
       "    '0.20999999344348907',\n",
       "    '0.20999999344348907',\n",
       "    '0.20999999344348907',\n",
       "    '0.20999999344348907',\n",
       "    '0.20999999344348907',\n",
       "    '0'],\n",
       "   ['2019-03-05',\n",
       "    '0.20999999344348907',\n",
       "    '0.20999999344348907',\n",
       "    '0.20999999344348907',\n",
       "    '0.20999999344348907',\n",
       "    '0.20999999344348907',\n",
       "    '0'],\n",
       "   ['2019-03-06',\n",
       "    '0.1550000011920929',\n",
       "    '0.1550000011920929',\n",
       "    '0.1550000011920929',\n",
       "    '0.1550000011920929',\n",
       "    '0.1550000011920929',\n",
       "    '1300'],\n",
       "   ['']]},\n",
       " 'message': 'Columns are in order Date,Open,High,Low,Close,Adj.Close,Volume. Make sure your data are ordered.'}"
      ]
     },
     "execution_count": 22,
     "metadata": {},
     "output_type": "execute_result"
    }
   ],
   "source": [
    "g"
   ]
  },
  {
   "cell_type": "code",
   "execution_count": 23,
   "id": "662f4e0c",
   "metadata": {},
   "outputs": [
    {
     "data": {
      "text/plain": [
       "[['2019-03-01',\n",
       "  '0.20999999344348907',\n",
       "  '0.20999999344348907',\n",
       "  '0.20999999344348907',\n",
       "  '0.20999999344348907',\n",
       "  '0.20999999344348907',\n",
       "  '0'],\n",
       " ['2019-03-04',\n",
       "  '0.20999999344348907',\n",
       "  '0.20999999344348907',\n",
       "  '0.20999999344348907',\n",
       "  '0.20999999344348907',\n",
       "  '0.20999999344348907',\n",
       "  '0'],\n",
       " ['2019-03-05',\n",
       "  '0.20999999344348907',\n",
       "  '0.20999999344348907',\n",
       "  '0.20999999344348907',\n",
       "  '0.20999999344348907',\n",
       "  '0.20999999344348907',\n",
       "  '0'],\n",
       " ['2019-03-06',\n",
       "  '0.1550000011920929',\n",
       "  '0.1550000011920929',\n",
       "  '0.1550000011920929',\n",
       "  '0.1550000011920929',\n",
       "  '0.1550000011920929',\n",
       "  '1300'],\n",
       " ['']]"
      ]
     },
     "execution_count": 23,
     "metadata": {},
     "output_type": "execute_result"
    }
   ],
   "source": [
    "g['data']['data']"
   ]
  },
  {
   "cell_type": "markdown",
   "id": "ba69c94b",
   "metadata": {},
   "source": [
    "I did not know how to continue, no time left :("
   ]
  },
  {
   "cell_type": "code",
   "execution_count": 24,
   "id": "3fbe9a55",
   "metadata": {},
   "outputs": [
    {
     "data": {
      "text/plain": [
       "{'data': {},\n",
       " 'message': 'DO NOT SHARE THE DATASET WITH ANYONE! Download manually the following file which contains the data: https://ies-python-midterm.s3.eu-central-1.amazonaws.com/sos.zip'}"
      ]
     },
     "execution_count": 24,
     "metadata": {},
     "output_type": "execute_result"
    }
   ],
   "source": [
    "url=\"https://ies-midterm.soulution.rocks/saveme\"\n",
    "payload={\"cuni\":\"68072775\"}\n",
    "result=requests.post(url, json=payload).json()\n",
    "result"
   ]
  },
  {
   "cell_type": "code",
   "execution_count": 25,
   "id": "cd8a1cbc",
   "metadata": {},
   "outputs": [
    {
     "data": {
      "text/html": [
       "<div>\n",
       "<style scoped>\n",
       "    .dataframe tbody tr th:only-of-type {\n",
       "        vertical-align: middle;\n",
       "    }\n",
       "\n",
       "    .dataframe tbody tr th {\n",
       "        vertical-align: top;\n",
       "    }\n",
       "\n",
       "    .dataframe thead th {\n",
       "        text-align: right;\n",
       "    }\n",
       "</style>\n",
       "<table border=\"1\" class=\"dataframe\">\n",
       "  <thead>\n",
       "    <tr style=\"text-align: right;\">\n",
       "      <th></th>\n",
       "      <th>Open</th>\n",
       "      <th>High</th>\n",
       "      <th>Low</th>\n",
       "      <th>Close</th>\n",
       "      <th>Adj Close</th>\n",
       "      <th>Volume</th>\n",
       "      <th>Company</th>\n",
       "    </tr>\n",
       "    <tr>\n",
       "      <th>Date</th>\n",
       "      <th></th>\n",
       "      <th></th>\n",
       "      <th></th>\n",
       "      <th></th>\n",
       "      <th></th>\n",
       "      <th></th>\n",
       "      <th></th>\n",
       "    </tr>\n",
       "  </thead>\n",
       "  <tbody>\n",
       "    <tr>\n",
       "      <th>2019-01-02</th>\n",
       "      <td>70.110001</td>\n",
       "      <td>74.230003</td>\n",
       "      <td>69.980003</td>\n",
       "      <td>73.839996</td>\n",
       "      <td>69.908577</td>\n",
       "      <td>725100</td>\n",
       "      <td>SGRO</td>\n",
       "    </tr>\n",
       "    <tr>\n",
       "      <th>2019-01-03</th>\n",
       "      <td>73.379997</td>\n",
       "      <td>75.589996</td>\n",
       "      <td>72.930000</td>\n",
       "      <td>73.669998</td>\n",
       "      <td>69.747620</td>\n",
       "      <td>790200</td>\n",
       "      <td>SGRO</td>\n",
       "    </tr>\n",
       "    <tr>\n",
       "      <th>2019-01-04</th>\n",
       "      <td>74.800003</td>\n",
       "      <td>76.860001</td>\n",
       "      <td>74.599998</td>\n",
       "      <td>76.440002</td>\n",
       "      <td>72.370148</td>\n",
       "      <td>607900</td>\n",
       "      <td>SGRO</td>\n",
       "    </tr>\n",
       "    <tr>\n",
       "      <th>2019-01-07</th>\n",
       "      <td>74.449997</td>\n",
       "      <td>76.260002</td>\n",
       "      <td>73.150002</td>\n",
       "      <td>75.010002</td>\n",
       "      <td>71.016281</td>\n",
       "      <td>783700</td>\n",
       "      <td>SGRO</td>\n",
       "    </tr>\n",
       "    <tr>\n",
       "      <th>2019-01-08</th>\n",
       "      <td>76.500000</td>\n",
       "      <td>77.589996</td>\n",
       "      <td>74.889999</td>\n",
       "      <td>77.150002</td>\n",
       "      <td>73.042351</td>\n",
       "      <td>771300</td>\n",
       "      <td>SGRO</td>\n",
       "    </tr>\n",
       "    <tr>\n",
       "      <th>...</th>\n",
       "      <td>...</td>\n",
       "      <td>...</td>\n",
       "      <td>...</td>\n",
       "      <td>...</td>\n",
       "      <td>...</td>\n",
       "      <td>...</td>\n",
       "      <td>...</td>\n",
       "    </tr>\n",
       "    <tr>\n",
       "      <th>2020-11-16</th>\n",
       "      <td>89.290001</td>\n",
       "      <td>89.610001</td>\n",
       "      <td>86.919998</td>\n",
       "      <td>88.690002</td>\n",
       "      <td>88.690002</td>\n",
       "      <td>370900</td>\n",
       "      <td>SGRO</td>\n",
       "    </tr>\n",
       "    <tr>\n",
       "      <th>2020-11-17</th>\n",
       "      <td>87.879997</td>\n",
       "      <td>89.550003</td>\n",
       "      <td>87.570000</td>\n",
       "      <td>88.839996</td>\n",
       "      <td>88.839996</td>\n",
       "      <td>309400</td>\n",
       "      <td>SGRO</td>\n",
       "    </tr>\n",
       "    <tr>\n",
       "      <th>2020-11-18</th>\n",
       "      <td>89.180000</td>\n",
       "      <td>90.690002</td>\n",
       "      <td>88.279999</td>\n",
       "      <td>88.309998</td>\n",
       "      <td>88.309998</td>\n",
       "      <td>334200</td>\n",
       "      <td>SGRO</td>\n",
       "    </tr>\n",
       "    <tr>\n",
       "      <th>2020-11-19</th>\n",
       "      <td>87.820000</td>\n",
       "      <td>88.550003</td>\n",
       "      <td>87.250000</td>\n",
       "      <td>88.489998</td>\n",
       "      <td>88.489998</td>\n",
       "      <td>166300</td>\n",
       "      <td>SGRO</td>\n",
       "    </tr>\n",
       "    <tr>\n",
       "      <th>2020-11-20</th>\n",
       "      <td>87.980003</td>\n",
       "      <td>88.570000</td>\n",
       "      <td>87.160004</td>\n",
       "      <td>88.309998</td>\n",
       "      <td>88.309998</td>\n",
       "      <td>196500</td>\n",
       "      <td>SGRO</td>\n",
       "    </tr>\n",
       "  </tbody>\n",
       "</table>\n",
       "<p>478 rows × 7 columns</p>\n",
       "</div>"
      ],
      "text/plain": [
       "                 Open       High        Low      Close  Adj Close  Volume  \\\n",
       "Date                                                                        \n",
       "2019-01-02  70.110001  74.230003  69.980003  73.839996  69.908577  725100   \n",
       "2019-01-03  73.379997  75.589996  72.930000  73.669998  69.747620  790200   \n",
       "2019-01-04  74.800003  76.860001  74.599998  76.440002  72.370148  607900   \n",
       "2019-01-07  74.449997  76.260002  73.150002  75.010002  71.016281  783700   \n",
       "2019-01-08  76.500000  77.589996  74.889999  77.150002  73.042351  771300   \n",
       "...               ...        ...        ...        ...        ...     ...   \n",
       "2020-11-16  89.290001  89.610001  86.919998  88.690002  88.690002  370900   \n",
       "2020-11-17  87.879997  89.550003  87.570000  88.839996  88.839996  309400   \n",
       "2020-11-18  89.180000  90.690002  88.279999  88.309998  88.309998  334200   \n",
       "2020-11-19  87.820000  88.550003  87.250000  88.489998  88.489998  166300   \n",
       "2020-11-20  87.980003  88.570000  87.160004  88.309998  88.309998  196500   \n",
       "\n",
       "           Company  \n",
       "Date                \n",
       "2019-01-02    SGRO  \n",
       "2019-01-03    SGRO  \n",
       "2019-01-04    SGRO  \n",
       "2019-01-07    SGRO  \n",
       "2019-01-08    SGRO  \n",
       "...            ...  \n",
       "2020-11-16    SGRO  \n",
       "2020-11-17    SGRO  \n",
       "2020-11-18    SGRO  \n",
       "2020-11-19    SGRO  \n",
       "2020-11-20    SGRO  \n",
       "\n",
       "[478 rows x 7 columns]"
      ]
     },
     "execution_count": 25,
     "metadata": {},
     "output_type": "execute_result"
    }
   ],
   "source": [
    "dataframe=pd.read_csv('EVR.csv').set_index('Date')\n",
    "dataframe['Company'] = g['data']['company']\n",
    "\n",
    "dataframe"
   ]
  },
  {
   "cell_type": "code",
   "execution_count": 28,
   "id": "3600b7bd",
   "metadata": {},
   "outputs": [],
   "source": [
    "company = []\n",
    "company.append(g['data']['company'])\n",
    "dataframe = dataframe.dropna()\n",
    "dataframe = dataframe.sort_index()"
   ]
  },
  {
   "cell_type": "markdown",
   "id": "79e2b2db",
   "metadata": {},
   "source": [
    "The dates of the dataset are not from 2019-01-02 to 2020-11-20. No data are misssing."
   ]
  },
  {
   "cell_type": "code",
   "execution_count": 30,
   "id": "5bce6a2f",
   "metadata": {},
   "outputs": [
    {
     "name": "stdout",
     "output_type": "stream",
     "text": [
      "                 Open       High        Low      Close  Adj Close  Volume  \\\n",
      "Date                                                                        \n",
      "2019-01-02  70.110001  74.230003  69.980003  73.839996  69.908577  725100   \n",
      "\n",
      "           Company  \n",
      "Date                \n",
      "2019-01-02    SGRO                    Open   High        Low      Close  Adj Close  Volume Company\n",
      "Date                                                                         \n",
      "2020-11-20  87.980003  88.57  87.160004  88.309998  88.309998  196500    SGRO\n"
     ]
    }
   ],
   "source": [
    "a=dataframe['Company'].unique()\n",
    "a\n",
    "for i in a:\n",
    "    print(dataframe[dataframe['Company']==i].head(1),dataframe[dataframe['Company']==i].tail(1) )"
   ]
  },
  {
   "cell_type": "markdown",
   "id": "e93157f5",
   "metadata": {},
   "source": [
    "Day when the highest number of shares was traded"
   ]
  },
  {
   "cell_type": "code",
   "execution_count": 31,
   "id": "d82bac42",
   "metadata": {},
   "outputs": [
    {
     "name": "stdout",
     "output_type": "stream",
     "text": [
      "             Volume\n",
      "Date               \n",
      "2019-01-30  2047600\n"
     ]
    }
   ],
   "source": [
    "c=dataframe.groupby(\"Date\")['Volume'].sum()\n",
    "c_df=pd.DataFrame(c, columns=['Volume'])\n",
    "print(c_df[c_df['Volume']==c.max()])"
   ]
  },
  {
   "cell_type": "markdown",
   "id": "f06e1146",
   "metadata": {},
   "source": [
    "Highest and lowest Adj Close price per company"
   ]
  },
  {
   "cell_type": "code",
   "execution_count": 33,
   "id": "a820fb42",
   "metadata": {},
   "outputs": [
    {
     "name": "stdout",
     "output_type": "stream",
     "text": [
      "SGRO 93.30607604980467 35.08083724975586\n"
     ]
    }
   ],
   "source": [
    "for z in company: #nebo in a\n",
    "    df_company = dataframe[dataframe['Company']==z]\n",
    "    print(z ,df_company['Adj Close'].max(), df_company['Adj Close'].min())"
   ]
  },
  {
   "cell_type": "markdown",
   "id": "27dd9a3f",
   "metadata": {},
   "source": [
    "Total of shares traded"
   ]
  },
  {
   "cell_type": "code",
   "execution_count": 34,
   "id": "9fa975e1",
   "metadata": {},
   "outputs": [
    {
     "data": {
      "text/html": [
       "<div>\n",
       "<style scoped>\n",
       "    .dataframe tbody tr th:only-of-type {\n",
       "        vertical-align: middle;\n",
       "    }\n",
       "\n",
       "    .dataframe tbody tr th {\n",
       "        vertical-align: top;\n",
       "    }\n",
       "\n",
       "    .dataframe thead th {\n",
       "        text-align: right;\n",
       "    }\n",
       "</style>\n",
       "<table border=\"1\" class=\"dataframe\">\n",
       "  <thead>\n",
       "    <tr style=\"text-align: right;\">\n",
       "      <th></th>\n",
       "      <th>Total shares</th>\n",
       "    </tr>\n",
       "    <tr>\n",
       "      <th>Company</th>\n",
       "      <th></th>\n",
       "    </tr>\n",
       "  </thead>\n",
       "  <tbody>\n",
       "    <tr>\n",
       "      <th>SGRO</th>\n",
       "      <td>237506800</td>\n",
       "    </tr>\n",
       "  </tbody>\n",
       "</table>\n",
       "</div>"
      ],
      "text/plain": [
       "         Total shares\n",
       "Company              \n",
       "SGRO        237506800"
      ]
     },
     "execution_count": 34,
     "metadata": {},
     "output_type": "execute_result"
    }
   ],
   "source": [
    "total_shares=dataframe.groupby('Company')['Volume'].sum()\n",
    "total_shares_df=pd.DataFrame(total_shares, columns=['Volume'])\n",
    "total_shares_df.rename({'Volume':'Total shares'},axis='columns')"
   ]
  },
  {
   "cell_type": "markdown",
   "id": "5d22262f",
   "metadata": {},
   "source": [
    "Create a single object with Adjusted Close prices, plot them together in one time series plot."
   ]
  },
  {
   "cell_type": "code",
   "execution_count": 35,
   "id": "6bf9b36d",
   "metadata": {},
   "outputs": [
    {
     "data": {
      "text/html": [
       "<div>\n",
       "<style scoped>\n",
       "    .dataframe tbody tr th:only-of-type {\n",
       "        vertical-align: middle;\n",
       "    }\n",
       "\n",
       "    .dataframe tbody tr th {\n",
       "        vertical-align: top;\n",
       "    }\n",
       "\n",
       "    .dataframe thead th {\n",
       "        text-align: right;\n",
       "    }\n",
       "</style>\n",
       "<table border=\"1\" class=\"dataframe\">\n",
       "  <thead>\n",
       "    <tr style=\"text-align: right;\">\n",
       "      <th></th>\n",
       "      <th>Date</th>\n",
       "      <th>Open</th>\n",
       "      <th>High</th>\n",
       "      <th>Low</th>\n",
       "      <th>Close</th>\n",
       "      <th>Adj Close</th>\n",
       "      <th>Volume</th>\n",
       "      <th>Company</th>\n",
       "    </tr>\n",
       "  </thead>\n",
       "  <tbody>\n",
       "    <tr>\n",
       "      <th>0</th>\n",
       "      <td>2019-01-02</td>\n",
       "      <td>70.110001</td>\n",
       "      <td>74.230003</td>\n",
       "      <td>69.980003</td>\n",
       "      <td>73.839996</td>\n",
       "      <td>69.908577</td>\n",
       "      <td>725100</td>\n",
       "      <td>SGRO</td>\n",
       "    </tr>\n",
       "    <tr>\n",
       "      <th>1</th>\n",
       "      <td>2019-01-03</td>\n",
       "      <td>73.379997</td>\n",
       "      <td>75.589996</td>\n",
       "      <td>72.930000</td>\n",
       "      <td>73.669998</td>\n",
       "      <td>69.747620</td>\n",
       "      <td>790200</td>\n",
       "      <td>SGRO</td>\n",
       "    </tr>\n",
       "    <tr>\n",
       "      <th>2</th>\n",
       "      <td>2019-01-04</td>\n",
       "      <td>74.800003</td>\n",
       "      <td>76.860001</td>\n",
       "      <td>74.599998</td>\n",
       "      <td>76.440002</td>\n",
       "      <td>72.370148</td>\n",
       "      <td>607900</td>\n",
       "      <td>SGRO</td>\n",
       "    </tr>\n",
       "    <tr>\n",
       "      <th>3</th>\n",
       "      <td>2019-01-07</td>\n",
       "      <td>74.449997</td>\n",
       "      <td>76.260002</td>\n",
       "      <td>73.150002</td>\n",
       "      <td>75.010002</td>\n",
       "      <td>71.016281</td>\n",
       "      <td>783700</td>\n",
       "      <td>SGRO</td>\n",
       "    </tr>\n",
       "    <tr>\n",
       "      <th>4</th>\n",
       "      <td>2019-01-08</td>\n",
       "      <td>76.500000</td>\n",
       "      <td>77.589996</td>\n",
       "      <td>74.889999</td>\n",
       "      <td>77.150002</td>\n",
       "      <td>73.042351</td>\n",
       "      <td>771300</td>\n",
       "      <td>SGRO</td>\n",
       "    </tr>\n",
       "    <tr>\n",
       "      <th>...</th>\n",
       "      <td>...</td>\n",
       "      <td>...</td>\n",
       "      <td>...</td>\n",
       "      <td>...</td>\n",
       "      <td>...</td>\n",
       "      <td>...</td>\n",
       "      <td>...</td>\n",
       "      <td>...</td>\n",
       "    </tr>\n",
       "    <tr>\n",
       "      <th>473</th>\n",
       "      <td>2020-11-16</td>\n",
       "      <td>89.290001</td>\n",
       "      <td>89.610001</td>\n",
       "      <td>86.919998</td>\n",
       "      <td>88.690002</td>\n",
       "      <td>88.690002</td>\n",
       "      <td>370900</td>\n",
       "      <td>SGRO</td>\n",
       "    </tr>\n",
       "    <tr>\n",
       "      <th>474</th>\n",
       "      <td>2020-11-17</td>\n",
       "      <td>87.879997</td>\n",
       "      <td>89.550003</td>\n",
       "      <td>87.570000</td>\n",
       "      <td>88.839996</td>\n",
       "      <td>88.839996</td>\n",
       "      <td>309400</td>\n",
       "      <td>SGRO</td>\n",
       "    </tr>\n",
       "    <tr>\n",
       "      <th>475</th>\n",
       "      <td>2020-11-18</td>\n",
       "      <td>89.180000</td>\n",
       "      <td>90.690002</td>\n",
       "      <td>88.279999</td>\n",
       "      <td>88.309998</td>\n",
       "      <td>88.309998</td>\n",
       "      <td>334200</td>\n",
       "      <td>SGRO</td>\n",
       "    </tr>\n",
       "    <tr>\n",
       "      <th>476</th>\n",
       "      <td>2020-11-19</td>\n",
       "      <td>87.820000</td>\n",
       "      <td>88.550003</td>\n",
       "      <td>87.250000</td>\n",
       "      <td>88.489998</td>\n",
       "      <td>88.489998</td>\n",
       "      <td>166300</td>\n",
       "      <td>SGRO</td>\n",
       "    </tr>\n",
       "    <tr>\n",
       "      <th>477</th>\n",
       "      <td>2020-11-20</td>\n",
       "      <td>87.980003</td>\n",
       "      <td>88.570000</td>\n",
       "      <td>87.160004</td>\n",
       "      <td>88.309998</td>\n",
       "      <td>88.309998</td>\n",
       "      <td>196500</td>\n",
       "      <td>SGRO</td>\n",
       "    </tr>\n",
       "  </tbody>\n",
       "</table>\n",
       "<p>478 rows × 8 columns</p>\n",
       "</div>"
      ],
      "text/plain": [
       "           Date       Open       High        Low      Close  Adj Close  \\\n",
       "0    2019-01-02  70.110001  74.230003  69.980003  73.839996  69.908577   \n",
       "1    2019-01-03  73.379997  75.589996  72.930000  73.669998  69.747620   \n",
       "2    2019-01-04  74.800003  76.860001  74.599998  76.440002  72.370148   \n",
       "3    2019-01-07  74.449997  76.260002  73.150002  75.010002  71.016281   \n",
       "4    2019-01-08  76.500000  77.589996  74.889999  77.150002  73.042351   \n",
       "..          ...        ...        ...        ...        ...        ...   \n",
       "473  2020-11-16  89.290001  89.610001  86.919998  88.690002  88.690002   \n",
       "474  2020-11-17  87.879997  89.550003  87.570000  88.839996  88.839996   \n",
       "475  2020-11-18  89.180000  90.690002  88.279999  88.309998  88.309998   \n",
       "476  2020-11-19  87.820000  88.550003  87.250000  88.489998  88.489998   \n",
       "477  2020-11-20  87.980003  88.570000  87.160004  88.309998  88.309998   \n",
       "\n",
       "     Volume Company  \n",
       "0    725100    SGRO  \n",
       "1    790200    SGRO  \n",
       "2    607900    SGRO  \n",
       "3    783700    SGRO  \n",
       "4    771300    SGRO  \n",
       "..      ...     ...  \n",
       "473  370900    SGRO  \n",
       "474  309400    SGRO  \n",
       "475  334200    SGRO  \n",
       "476  166300    SGRO  \n",
       "477  196500    SGRO  \n",
       "\n",
       "[478 rows x 8 columns]"
      ]
     },
     "execution_count": 35,
     "metadata": {},
     "output_type": "execute_result"
    }
   ],
   "source": [
    "dataframe.reset_index()"
   ]
  },
  {
   "cell_type": "code",
   "execution_count": 45,
   "id": "a97c5808",
   "metadata": {},
   "outputs": [],
   "source": [
    "sgro=dataframe[dataframe['Company']=='SGRO']\n",
    "sgro_df=pd.DataFrame(sgro)\n"
   ]
  },
  {
   "cell_type": "code",
   "execution_count": 44,
   "id": "c2999825",
   "metadata": {},
   "outputs": [
    {
     "data": {
      "image/png": "[encoded data removed]",
      "text/plain": [
       "<Figure size 432x288 with 1 Axes>"
      ]
     },
     "metadata": {
      "needs_background": "light"
     },
     "output_type": "display_data"
    }
   ],
   "source": [
    "plt.title('Adjusted Close prices over time',fontsize=18, color='black')\n",
    "\n",
    "plt.plot(sgro_df['Adj Close'],label='SGRO', color='red')\n",
    "\n",
    "plt.legend(loc=2)\n",
    "plt.show()"
   ]
  }
 ],
 "metadata": {
  "kernelspec": {
   "display_name": "Python 3 (ipykernel)",
   "language": "python",
   "name": "python3"
  },
  "language_info": {
   "codemirror_mode": {
    "name": "ipython",
    "version": 3
   },
   "file_extension": ".py",
   "mimetype": "text/x-python",
   "name": "python",
   "nbconvert_exporter": "python",
   "pygments_lexer": "ipython3",
   "version": "3.9.7"
  }
 },
 "nbformat": 4,
 "nbformat_minor": 5
}
